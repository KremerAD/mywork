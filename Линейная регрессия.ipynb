{
 "cells": [
  {
   "cell_type": "code",
   "execution_count": 1,
   "metadata": {},
   "outputs": [],
   "source": [
    "import pandas as pd\n",
    "import numpy as np\n",
    "import matplotlib.pyplot as plt\n",
    "from sklearn.model_selection import train_test_split\n",
    "from sklearn.linear_model import LinearRegression\n",
    "from sklearn import metrics\n",
    "import time\n",
    "\n",
    "%matplotlib inline"
   ]
  },
  {
   "cell_type": "code",
   "execution_count": 2,
   "metadata": {},
   "outputs": [
    {
     "output_type": "execute_result",
     "data": {
      "text/plain": "   Area  Garage  FirePlace  Baths  White Marble  Black Marble  Indian Marble  \\\n0   164       2          0      2             0             1              0   \n1    84       2          0      4             0             0              1   \n2   190       2          4      4             1             0              0   \n3    75       2          4      4             0             0              1   \n4   148       1          4      2             1             0              0   \n\n   Floors  City  Solar  Electric  Fiber  Glass Doors  Swiming Pool  Garden  \\\n0       0     3      1         1      1            1             0       0   \n1       1     2      0         0      0            1             1       1   \n2       0     2      0         0      1            0             0       0   \n3       1     1      1         1      1            1             1       1   \n4       1     2      1         0      0            1             1       1   \n\n   Prices  \n0   43800  \n1   37550  \n2   49500  \n3   50075  \n4   52400  ",
      "text/html": "<div>\n<style scoped>\n    .dataframe tbody tr th:only-of-type {\n        vertical-align: middle;\n    }\n\n    .dataframe tbody tr th {\n        vertical-align: top;\n    }\n\n    .dataframe thead th {\n        text-align: right;\n    }\n</style>\n<table border=\"1\" class=\"dataframe\">\n  <thead>\n    <tr style=\"text-align: right;\">\n      <th></th>\n      <th>Area</th>\n      <th>Garage</th>\n      <th>FirePlace</th>\n      <th>Baths</th>\n      <th>White Marble</th>\n      <th>Black Marble</th>\n      <th>Indian Marble</th>\n      <th>Floors</th>\n      <th>City</th>\n      <th>Solar</th>\n      <th>Electric</th>\n      <th>Fiber</th>\n      <th>Glass Doors</th>\n      <th>Swiming Pool</th>\n      <th>Garden</th>\n      <th>Prices</th>\n    </tr>\n  </thead>\n  <tbody>\n    <tr>\n      <th>0</th>\n      <td>164</td>\n      <td>2</td>\n      <td>0</td>\n      <td>2</td>\n      <td>0</td>\n      <td>1</td>\n      <td>0</td>\n      <td>0</td>\n      <td>3</td>\n      <td>1</td>\n      <td>1</td>\n      <td>1</td>\n      <td>1</td>\n      <td>0</td>\n      <td>0</td>\n      <td>43800</td>\n    </tr>\n    <tr>\n      <th>1</th>\n      <td>84</td>\n      <td>2</td>\n      <td>0</td>\n      <td>4</td>\n      <td>0</td>\n      <td>0</td>\n      <td>1</td>\n      <td>1</td>\n      <td>2</td>\n      <td>0</td>\n      <td>0</td>\n      <td>0</td>\n      <td>1</td>\n      <td>1</td>\n      <td>1</td>\n      <td>37550</td>\n    </tr>\n    <tr>\n      <th>2</th>\n      <td>190</td>\n      <td>2</td>\n      <td>4</td>\n      <td>4</td>\n      <td>1</td>\n      <td>0</td>\n      <td>0</td>\n      <td>0</td>\n      <td>2</td>\n      <td>0</td>\n      <td>0</td>\n      <td>1</td>\n      <td>0</td>\n      <td>0</td>\n      <td>0</td>\n      <td>49500</td>\n    </tr>\n    <tr>\n      <th>3</th>\n      <td>75</td>\n      <td>2</td>\n      <td>4</td>\n      <td>4</td>\n      <td>0</td>\n      <td>0</td>\n      <td>1</td>\n      <td>1</td>\n      <td>1</td>\n      <td>1</td>\n      <td>1</td>\n      <td>1</td>\n      <td>1</td>\n      <td>1</td>\n      <td>1</td>\n      <td>50075</td>\n    </tr>\n    <tr>\n      <th>4</th>\n      <td>148</td>\n      <td>1</td>\n      <td>4</td>\n      <td>2</td>\n      <td>1</td>\n      <td>0</td>\n      <td>0</td>\n      <td>1</td>\n      <td>2</td>\n      <td>1</td>\n      <td>0</td>\n      <td>0</td>\n      <td>1</td>\n      <td>1</td>\n      <td>1</td>\n      <td>52400</td>\n    </tr>\n  </tbody>\n</table>\n</div>"
     },
     "metadata": {},
     "execution_count": 2
    }
   ],
   "source": [
    "data = pd.read_csv('HousePrices_HalfMil.csv', sep=',')\n",
    "data.head()"
   ]
  },
  {
   "cell_type": "code",
   "execution_count": 3,
   "metadata": {},
   "outputs": [
    {
     "output_type": "execute_result",
     "data": {
      "text/plain": "(500000, 16)"
     },
     "metadata": {},
     "execution_count": 3
    }
   ],
   "source": [
    "data.shape"
   ]
  },
  {
   "cell_type": "code",
   "execution_count": 8,
   "metadata": {},
   "outputs": [
    {
     "output_type": "execute_result",
     "data": {
      "text/plain": "                Area         Garage      FirePlace          Baths  \\\ncount  500000.000000  500000.000000  500000.000000  500000.000000   \nmean      124.929554       2.001290       2.003398       2.998074   \nstd        71.795363       0.817005       1.414021       1.414227   \nmin         1.000000       1.000000       0.000000       1.000000   \n25%        63.000000       1.000000       1.000000       2.000000   \n50%       125.000000       2.000000       2.000000       3.000000   \n75%       187.000000       3.000000       3.000000       4.000000   \nmax       249.000000       3.000000       4.000000       5.000000   \n\n        White Marble   Black Marble  Indian Marble         Floors  \\\ncount  500000.000000  500000.000000  500000.000000  500000.000000   \nmean        0.332992       0.332690       0.334318       0.499386   \nstd         0.471284       0.471177       0.471752       0.500000   \nmin         0.000000       0.000000       0.000000       0.000000   \n25%         0.000000       0.000000       0.000000       0.000000   \n50%         0.000000       0.000000       0.000000       0.000000   \n75%         1.000000       1.000000       1.000000       1.000000   \nmax         1.000000       1.000000       1.000000       1.000000   \n\n                City          Solar      Electric          Fiber  \\\ncount  500000.000000  500000.000000  500000.00000  500000.000000   \nmean        2.000940       0.498694       0.50065       0.500468   \nstd         0.816209       0.499999       0.50000       0.500000   \nmin         1.000000       0.000000       0.00000       0.000000   \n25%         1.000000       0.000000       0.00000       0.000000   \n50%         2.000000       0.000000       1.00000       1.000000   \n75%         3.000000       1.000000       1.00000       1.000000   \nmax         3.000000       1.000000       1.00000       1.000000   \n\n        Glass Doors   Swiming Pool         Garden         Prices  \ncount  500000.00000  500000.000000  500000.000000  500000.000000  \nmean        0.49987       0.500436       0.501646   42050.139350  \nstd         0.50000       0.500000       0.499998   12110.237201  \nmin         0.00000       0.000000       0.000000    7725.000000  \n25%         0.00000       0.000000       0.000000   33500.000000  \n50%         0.00000       1.000000       1.000000   41850.000000  \n75%         1.00000       1.000000       1.000000   50750.000000  \nmax         1.00000       1.000000       1.000000   77975.000000  ",
      "text/html": "<div>\n<style scoped>\n    .dataframe tbody tr th:only-of-type {\n        vertical-align: middle;\n    }\n\n    .dataframe tbody tr th {\n        vertical-align: top;\n    }\n\n    .dataframe thead th {\n        text-align: right;\n    }\n</style>\n<table border=\"1\" class=\"dataframe\">\n  <thead>\n    <tr style=\"text-align: right;\">\n      <th></th>\n      <th>Area</th>\n      <th>Garage</th>\n      <th>FirePlace</th>\n      <th>Baths</th>\n      <th>White Marble</th>\n      <th>Black Marble</th>\n      <th>Indian Marble</th>\n      <th>Floors</th>\n      <th>City</th>\n      <th>Solar</th>\n      <th>Electric</th>\n      <th>Fiber</th>\n      <th>Glass Doors</th>\n      <th>Swiming Pool</th>\n      <th>Garden</th>\n      <th>Prices</th>\n    </tr>\n  </thead>\n  <tbody>\n    <tr>\n      <th>count</th>\n      <td>500000.000000</td>\n      <td>500000.000000</td>\n      <td>500000.000000</td>\n      <td>500000.000000</td>\n      <td>500000.000000</td>\n      <td>500000.000000</td>\n      <td>500000.000000</td>\n      <td>500000.000000</td>\n      <td>500000.000000</td>\n      <td>500000.000000</td>\n      <td>500000.00000</td>\n      <td>500000.000000</td>\n      <td>500000.00000</td>\n      <td>500000.000000</td>\n      <td>500000.000000</td>\n      <td>500000.000000</td>\n    </tr>\n    <tr>\n      <th>mean</th>\n      <td>124.929554</td>\n      <td>2.001290</td>\n      <td>2.003398</td>\n      <td>2.998074</td>\n      <td>0.332992</td>\n      <td>0.332690</td>\n      <td>0.334318</td>\n      <td>0.499386</td>\n      <td>2.000940</td>\n      <td>0.498694</td>\n      <td>0.50065</td>\n      <td>0.500468</td>\n      <td>0.49987</td>\n      <td>0.500436</td>\n      <td>0.501646</td>\n      <td>42050.139350</td>\n    </tr>\n    <tr>\n      <th>std</th>\n      <td>71.795363</td>\n      <td>0.817005</td>\n      <td>1.414021</td>\n      <td>1.414227</td>\n      <td>0.471284</td>\n      <td>0.471177</td>\n      <td>0.471752</td>\n      <td>0.500000</td>\n      <td>0.816209</td>\n      <td>0.499999</td>\n      <td>0.50000</td>\n      <td>0.500000</td>\n      <td>0.50000</td>\n      <td>0.500000</td>\n      <td>0.499998</td>\n      <td>12110.237201</td>\n    </tr>\n    <tr>\n      <th>min</th>\n      <td>1.000000</td>\n      <td>1.000000</td>\n      <td>0.000000</td>\n      <td>1.000000</td>\n      <td>0.000000</td>\n      <td>0.000000</td>\n      <td>0.000000</td>\n      <td>0.000000</td>\n      <td>1.000000</td>\n      <td>0.000000</td>\n      <td>0.00000</td>\n      <td>0.000000</td>\n      <td>0.00000</td>\n      <td>0.000000</td>\n      <td>0.000000</td>\n      <td>7725.000000</td>\n    </tr>\n    <tr>\n      <th>25%</th>\n      <td>63.000000</td>\n      <td>1.000000</td>\n      <td>1.000000</td>\n      <td>2.000000</td>\n      <td>0.000000</td>\n      <td>0.000000</td>\n      <td>0.000000</td>\n      <td>0.000000</td>\n      <td>1.000000</td>\n      <td>0.000000</td>\n      <td>0.00000</td>\n      <td>0.000000</td>\n      <td>0.00000</td>\n      <td>0.000000</td>\n      <td>0.000000</td>\n      <td>33500.000000</td>\n    </tr>\n    <tr>\n      <th>50%</th>\n      <td>125.000000</td>\n      <td>2.000000</td>\n      <td>2.000000</td>\n      <td>3.000000</td>\n      <td>0.000000</td>\n      <td>0.000000</td>\n      <td>0.000000</td>\n      <td>0.000000</td>\n      <td>2.000000</td>\n      <td>0.000000</td>\n      <td>1.00000</td>\n      <td>1.000000</td>\n      <td>0.00000</td>\n      <td>1.000000</td>\n      <td>1.000000</td>\n      <td>41850.000000</td>\n    </tr>\n    <tr>\n      <th>75%</th>\n      <td>187.000000</td>\n      <td>3.000000</td>\n      <td>3.000000</td>\n      <td>4.000000</td>\n      <td>1.000000</td>\n      <td>1.000000</td>\n      <td>1.000000</td>\n      <td>1.000000</td>\n      <td>3.000000</td>\n      <td>1.000000</td>\n      <td>1.00000</td>\n      <td>1.000000</td>\n      <td>1.00000</td>\n      <td>1.000000</td>\n      <td>1.000000</td>\n      <td>50750.000000</td>\n    </tr>\n    <tr>\n      <th>max</th>\n      <td>249.000000</td>\n      <td>3.000000</td>\n      <td>4.000000</td>\n      <td>5.000000</td>\n      <td>1.000000</td>\n      <td>1.000000</td>\n      <td>1.000000</td>\n      <td>1.000000</td>\n      <td>3.000000</td>\n      <td>1.000000</td>\n      <td>1.00000</td>\n      <td>1.000000</td>\n      <td>1.00000</td>\n      <td>1.000000</td>\n      <td>1.000000</td>\n      <td>77975.000000</td>\n    </tr>\n  </tbody>\n</table>\n</div>"
     },
     "metadata": {},
     "execution_count": 8
    }
   ],
   "source": [
    "data.describe()"
   ]
  },
  {
   "cell_type": "code",
   "execution_count": 12,
   "metadata": {},
   "outputs": [],
   "source": [
    "a = list(data)\n",
    "a.remove('Prices')\n",
    "X = data[a]\n",
    "y = data['Prices']"
   ]
  },
  {
   "cell_type": "code",
   "execution_count": 13,
   "metadata": {},
   "outputs": [],
   "source": [
    "X_train, X_test, y_train, y_test = train_test_split(X, y, test_size=0.25)"
   ]
  },
  {
   "cell_type": "code",
   "execution_count": 14,
   "metadata": {
    "tags": []
   },
   "outputs": [
    {
     "output_type": "stream",
     "name": "stdout",
     "text": "выполнено за 0.17904448509216309 seconds\nMSE: 6.16726353844993e-21\n1.0 \n\n"
    }
   ],
   "source": [
    "lreg = LinearRegression()\n",
    "start_time = time.time()\n",
    "lreg.fit(X_train, y_train)\n",
    "y_pred = lreg.predict(X_test)\n",
    "print(' выполнено за %s seconds' % (time.time() - start_time))\n",
    "print('MSE:', metrics.mean_squared_error(y_test, y_pred))\n",
    "print( lreg.score( X_test, y_test ), '\\n' )"
   ]
  }
 ],
 "metadata": {
  "language_info": {
   "codemirror_mode": {
    "name": "ipython",
    "version": 3
   },
   "file_extension": ".py",
   "mimetype": "text/x-python",
   "name": "python",
   "nbconvert_exporter": "python",
   "pygments_lexer": "ipython3",
   "version": 3
  },
  "orig_nbformat": 2,
  "kernelspec": {
   "name": "python_defaultSpec_1593599587453",
   "display_name": "Python 3.7.3 64-bit ('base': conda)"
  }
 },
 "nbformat": 4,
 "nbformat_minor": 2
}